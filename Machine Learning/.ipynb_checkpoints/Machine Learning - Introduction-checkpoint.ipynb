{
 "cells": [
  {
   "cell_type": "markdown",
   "id": "6fd8e135-dbd6-4d57-8e50-ffb0c8cc82c2",
   "metadata": {
    "tags": []
   },
   "source": [
    "# Machine Learning \n",
    "---\n",
    "\n",
    "**What is Machine Learning?**\n",
    "\n",
    "\"Field of study that gives computers the ability to learn without being explitly programmed.\" (Arthur Samuel - 1959)\n",
    "\"It is a branch of AI\"\n",
    "  \n",
    "**Machine Learning algorithms:**\n",
    "- Supervised learning (used most in real-world applications, rapid advancements)\n",
    "- Unsupervised learning\n",
    "    - Recommender systems\n",
    "    - Reinforcement learning"
   ]
  },
  {
   "cell_type": "markdown",
   "id": "4184d4d4-d18b-4ba7-bec7-482663d85fe4",
   "metadata": {},
   "source": [
    "# Supervised Learning\n",
    "---\n",
    "\n",
    "Algorithm that learn $x$ to $y$ (input to output mapping). The main key of SL is that you give your learning algorithms examples to learn from. Learn from dala labeled with the \"right answers\".\n",
    "\n",
    "You should give input $x$ and desired output label $y$.\n",
    "\n",
    "**Examples:**\n",
    "\n",
    "| Input (X) | Output (Y) | Application |\n",
    "| --- | --- | --- |\n",
    "| Email | spam? (0/1) | spam filtering |\n",
    "| Audio | text transctipts | speech recognition |\n",
    "| English | Spanish | machine translation |\n",
    "| ad, user info | click? (0/1) | online advertisementing|\n",
    "| image of phone | defect? (0/1) | visual inspection |\n",
    "\n",
    "**Types of Supervised Learning problem:**\n",
    "- **Regression:**  The objetive is predict a number from infinitely many possible outputs. \n",
    "  \n",
    "  **Example:** The house prices (Housing price prediction)\n",
    "\n",
    "- **Classification:** The objetive is to make a prediction of a category, all of a small set of possible outputs.  (Binary Classification $2$-outputs, Multiclass Classification $n$ -outputs \"$n>2$\")\n",
    "\n",
    "  Predict categories as cat-dog, benign-malignant, 1-2-3.\n",
    "  \n",
    "  **Examples:** Breast cancer detection, Illness Avocado detection.\n",
    "  \n",
    "  When we have 2 values from the input (Age-Tumor size), the objetive is find the boundary line through this data.\n",
    "  \n",
    "  <center> <img src=\"2-input.png\" width=\"350\" height=\"280\">  </center>  " 
   ]
  },
  {
   "cell_type": "markdown",
   "id": "a6f6e816-c12f-4923-b8fd-7e7b524fcbaa",
   "metadata": {},
   "source": [
    "# Unsupervised Learning\n",
    "---\n",
    "\n",
    "The objetive is find something interesting in unlabeled data. What patterns or structures that might be in this data. \n",
    "\n",
    "# Clustering\n",
    "Identify if the data can be assigned to two or more different groups or clusters. Group similar data together.\n",
    "\n",
    "**Applications of Clustering:**\n",
    "- Google news: Finding the articles that mention similar words and grouping them into clusters.\n",
    "- Coursera: Grouping customers to try to better serve of their community.\n",
    "\n",
    "# Anomaly detection\n",
    "It is used to detect unusual events (data points). \n",
    "\n",
    "**Applications:**\n",
    "- Fraud detection in the financial system (unusual transactions)\n",
    "\n",
    "# Dimensionality reduction\n",
    "Compress data using fewer numbers. Losing as little information as possible."
   ]
  },
  {
   "cell_type": "markdown",
   "id": "680c79e9-f98f-4680-979f-a3c9a277f075",
   "metadata": {
    "tags": []
   },
   "source": [
    "# References\n",
    "\n",
    "[1] Supervised Machine Learning: Regression and Classification - OpenIA, Stanford University - Coursera course.\n"
   ]
  }
 ],
 "metadata": {
  "kernelspec": {
   "display_name": "Python 3 (ipykernel)",
   "language": "python",
   "name": "python3"
  },
  "language_info": {
   "codemirror_mode": {
    "name": "ipython",
    "version": 3
   },
   "file_extension": ".py",
   "mimetype": "text/x-python",
   "name": "python",
   "nbconvert_exporter": "python",
   "pygments_lexer": "ipython3",
   "version": "3.9.12"
  }
 },
 "nbformat": 4,
 "nbformat_minor": 5
}
